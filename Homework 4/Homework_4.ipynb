{
  "nbformat": 4,
  "nbformat_minor": 0,
  "metadata": {
    "colab": {
      "name": "Homework 4.ipynb",
      "provenance": []
    },
    "kernelspec": {
      "name": "python3",
      "display_name": "Python 3"
    },
    "language_info": {
      "name": "python"
    }
  },
  "cells": [
    {
      "cell_type": "markdown",
      "metadata": {
        "id": "aai2oA_LGH0u"
      },
      "source": [
        "# 1. Convolutional Neural Networks"
      ]
    },
    {
      "cell_type": "markdown",
      "metadata": {
        "id": "rssabHOOGMCg"
      },
      "source": [
        "##a. Load the Dataset"
      ]
    },
    {
      "cell_type": "code",
      "metadata": {
        "colab": {
          "base_uri": "https://localhost:8080/",
          "height": 36
        },
        "id": "24TT6nMtDzlx",
        "outputId": "99dc349c-5f1b-4e5b-a9d8-b281931c090c"
      },
      "source": [
        "import keras \n",
        "keras.__version__"
      ],
      "execution_count": 1,
      "outputs": [
        {
          "output_type": "execute_result",
          "data": {
            "application/vnd.google.colaboratory.intrinsic+json": {
              "type": "string"
            },
            "text/plain": [
              "'2.7.0'"
            ]
          },
          "metadata": {},
          "execution_count": 1
        }
      ]
    },
    {
      "cell_type": "code",
      "metadata": {
        "id": "hPARjOaBF97l",
        "colab": {
          "base_uri": "https://localhost:8080/"
        },
        "outputId": "ed3237a1-0d3e-4556-974b-a148460f109b"
      },
      "source": [
        "from keras.datasets import mnist\n",
        "import matplotlib.pyplot as plt\n",
        "import numpy as np\n",
        "\n",
        "(train_X, train_Y), (test_X, test_Y) = mnist.load_data()\n"
      ],
      "execution_count": 2,
      "outputs": [
        {
          "output_type": "stream",
          "name": "stdout",
          "text": [
            "Downloading data from https://storage.googleapis.com/tensorflow/tf-keras-datasets/mnist.npz\n",
            "11493376/11490434 [==============================] - 0s 0us/step\n",
            "11501568/11490434 [==============================] - 0s 0us/step\n"
          ]
        }
      ]
    },
    {
      "cell_type": "code",
      "metadata": {
        "colab": {
          "base_uri": "https://localhost:8080/"
        },
        "id": "MxTEjEmgGQYv",
        "outputId": "01b9acad-dd7e-42da-d0f4-953e69d6f7e9"
      },
      "source": [
        "print(train_X.shape, train_Y.shape)"
      ],
      "execution_count": 3,
      "outputs": [
        {
          "output_type": "stream",
          "name": "stdout",
          "text": [
            "(60000, 28, 28) (60000,)\n"
          ]
        }
      ]
    },
    {
      "cell_type": "code",
      "metadata": {
        "id": "xfzAT1_nGfPD",
        "colab": {
          "base_uri": "https://localhost:8080/",
          "height": 301
        },
        "outputId": "060ca429-bbe3-4a79-8b22-96ca1dfb894f"
      },
      "source": [
        "plt.figure()\n",
        "\n",
        "#subplot(r,c) provide the no. of rows and columns\n",
        "f, axarr = plt.subplots(2,2) \n",
        "\n",
        "axarr[0][0].imshow(train_X[0])\n",
        "axarr[0][1].imshow(train_X[1])\n",
        "axarr[1][0].imshow(train_X[2])\n",
        "axarr[1][1].imshow(train_X[3])"
      ],
      "execution_count": 4,
      "outputs": [
        {
          "output_type": "execute_result",
          "data": {
            "text/plain": [
              "<matplotlib.image.AxesImage at 0x7f63a003eb50>"
            ]
          },
          "metadata": {},
          "execution_count": 4
        },
        {
          "output_type": "display_data",
          "data": {
            "text/plain": [
              "<Figure size 432x288 with 0 Axes>"
            ]
          },
          "metadata": {}
        },
        {
          "output_type": "display_data",
          "data": {
            "image/png": "[encoded data removed]",
            "text/plain": [
              "<Figure size 432x288 with 4 Axes>"
            ]
          },
          "metadata": {
            "needs_background": "light"
          }
        }
      ]
    },
    {
      "cell_type": "markdown",
      "metadata": {
        "id": "GLXUWGlOlf39"
      },
      "source": [
        "##b. Preprocessing"
      ]
    },
    {
      "cell_type": "code",
      "metadata": {
        "colab": {
          "base_uri": "https://localhost:8080/"
        },
        "id": "kQ4kEYWqjPC_",
        "outputId": "6a14e5b8-9c0f-49a1-a421-31a0ca79f784"
      },
      "source": [
        "from tensorflow.keras.utils import to_categorical\n",
        "\n",
        "# Model / data \n",
        "num_classes = 10\n",
        "input_shape = (28, 28, 1)\n",
        "\n",
        "\n",
        "# Scale images to the [0, 1] range\n",
        "train_X = train_X.astype(\"float32\") / 255\n",
        "test_X = test_X.astype(\"float32\") / 255\n",
        "\n",
        "# Convert image shape to (28, 28, 1)\n",
        "train_X = np.expand_dims(train_X, -1)\n",
        "test_X = np.expand_dims(test_X, -1)\n",
        "\n",
        "print(\"train_X shape:\", train_X.shape)\n",
        "print(\"Training samples:\", train_X.shape[0])\n",
        "print(\"Test samples:\", test_Y.shape[0])\n",
        "\n",
        "\n",
        "# convert class vectors to binary class matrices\n",
        "train_Y = to_categorical(train_Y, num_classes)\n",
        "test_Y = to_categorical(test_Y, num_classes)"
      ],
      "execution_count": 5,
      "outputs": [
        {
          "output_type": "stream",
          "name": "stdout",
          "text": [
            "train_X shape: (60000, 28, 28, 1)\n",
            "Training samples: 60000\n",
            "Test samples: 10000\n"
          ]
        }
      ]
    },
    {
      "cell_type": "markdown",
      "metadata": {
        "id": "hSto7mqkvRE9"
      },
      "source": [
        "## c.Implementation"
      ]
    },
    {
      "cell_type": "code",
      "metadata": {
        "id": "8eaPkuVjou08"
      },
      "source": [
        "from keras.models import Sequential\n",
        "from keras.layers import Conv2D\n",
        "from keras.layers import MaxPooling2D\n",
        "from keras.layers import Dense\n",
        "from keras.layers import Flatten\n",
        "from tensorflow.keras.optimizers import SGD\n",
        "\n",
        "def create_cnn( ):\n",
        "  # define using Sequential\n",
        "  model = Sequential()\n",
        "  # Convolution layer\n",
        "  model.add(\n",
        "      Conv2D(32, (3, 3),\n",
        "      activation= 'relu',\n",
        "      kernel_initializer='he_uniform',\n",
        "      input_shape=(28, 28, 1))\n",
        "      )\n",
        "  # Maxpooling layer\n",
        "  model.add(MaxPooling2D((2, 2)))\n",
        "  # Flatten output\n",
        "  model.add(Flatten())\n",
        "  # Dense layer of 100 neurons\n",
        "  model.add(\n",
        "      Dense (100,\n",
        "      activation= 'relu',\n",
        "      kernel_initializer='he_uniform') \n",
        "      )\n",
        "  model.add(Dense(10, activation='softmax')) # initialize optimizer\n",
        "  opt = SGD(learning_rate=0.01, momentum=0.9)\n",
        "  # compile model\n",
        "  model.compile(\n",
        "      optimizer=opt,\n",
        "      loss= 'categorical_crossentropy',\n",
        "      metrics =['accuracy']\n",
        "      )\n",
        "  print(model.layers)\n",
        "\n",
        "  return model"
      ],
      "execution_count": 6,
      "outputs": []
    },
    {
      "cell_type": "code",
      "metadata": {
        "colab": {
          "base_uri": "https://localhost:8080/"
        },
        "id": "KqKScUtpqyGg",
        "outputId": "47b365fe-fa6d-478f-f1d7-90b8e16481d3"
      },
      "source": [
        "model = create_cnn()"
      ],
      "execution_count": 7,
      "outputs": [
        {
          "output_type": "stream",
          "name": "stdout",
          "text": [
            "[<keras.layers.convolutional.Conv2D object at 0x7f639f7bddd0>, <keras.layers.pooling.MaxPooling2D object at 0x7f639f7bdb90>, <keras.layers.core.flatten.Flatten object at 0x7f639b6d5050>, <keras.layers.core.dense.Dense object at 0x7f639b6914d0>, <keras.layers.core.dense.Dense object at 0x7f639b73d410>]\n"
          ]
        }
      ]
    },
    {
      "cell_type": "markdown",
      "metadata": {
        "id": "TYkv2mXYwKtg"
      },
      "source": [
        "## d. Training and Evaluating the CNN"
      ]
    },
    {
      "cell_type": "code",
      "metadata": {
        "colab": {
          "base_uri": "https://localhost:8080/"
        },
        "id": "eLghwIiMu8-A",
        "outputId": "a5751611-1793-491f-c13e-b220c3c43707"
      },
      "source": [
        "model.fit(train_X, train_Y, batch_size=32, epochs=50, validation_split =0.1)\n",
        "score = model.evaluate(test_X, test_Y, verbose=0)"
      ],
      "execution_count": 11,
      "outputs": [
        {
          "output_type": "stream",
          "name": "stdout",
          "text": [
            "Epoch 1/50\n",
            "1688/1688 [==============================] - 34s 20ms/step - loss: 0.0881 - accuracy: 0.9741 - val_loss: 0.0631 - val_accuracy: 0.9847\n",
            "Epoch 2/50\n",
            "1688/1688 [==============================] - 33s 20ms/step - loss: 0.0488 - accuracy: 0.9849 - val_loss: 0.0509 - val_accuracy: 0.9867\n",
            "Epoch 3/50\n",
            "1688/1688 [==============================] - 33s 20ms/step - loss: 0.0329 - accuracy: 0.9899 - val_loss: 0.0456 - val_accuracy: 0.9875\n",
            "Epoch 4/50\n",
            "1688/1688 [==============================] - 33s 20ms/step - loss: 0.0227 - accuracy: 0.9934 - val_loss: 0.0468 - val_accuracy: 0.9890\n",
            "Epoch 5/50\n",
            "1688/1688 [==============================] - 34s 20ms/step - loss: 0.0150 - accuracy: 0.9957 - val_loss: 0.0465 - val_accuracy: 0.9888\n",
            "Epoch 6/50\n",
            "1688/1688 [==============================] - 33s 20ms/step - loss: 0.0102 - accuracy: 0.9975 - val_loss: 0.0500 - val_accuracy: 0.9883\n",
            "Epoch 7/50\n",
            "1688/1688 [==============================] - 33s 20ms/step - loss: 0.0073 - accuracy: 0.9984 - val_loss: 0.0527 - val_accuracy: 0.9867\n",
            "Epoch 8/50\n",
            "1688/1688 [==============================] - 34s 20ms/step - loss: 0.0047 - accuracy: 0.9991 - val_loss: 0.0552 - val_accuracy: 0.9898\n",
            "Epoch 9/50\n",
            "1688/1688 [==============================] - 34s 20ms/step - loss: 0.0033 - accuracy: 0.9995 - val_loss: 0.0534 - val_accuracy: 0.9890\n",
            "Epoch 10/50\n",
            "1688/1688 [==============================] - 34s 20ms/step - loss: 0.0022 - accuracy: 0.9996 - val_loss: 0.0575 - val_accuracy: 0.9887\n",
            "Epoch 11/50\n",
            "1688/1688 [==============================] - 34s 20ms/step - loss: 0.0013 - accuracy: 0.9999 - val_loss: 0.0568 - val_accuracy: 0.9887\n",
            "Epoch 12/50\n",
            "1688/1688 [==============================] - 34s 20ms/step - loss: 0.0011 - accuracy: 0.9999 - val_loss: 0.0564 - val_accuracy: 0.9892\n",
            "Epoch 13/50\n",
            "1688/1688 [==============================] - 33s 20ms/step - loss: 7.5779e-04 - accuracy: 1.0000 - val_loss: 0.0565 - val_accuracy: 0.9893\n",
            "Epoch 14/50\n",
            "1688/1688 [==============================] - 34s 20ms/step - loss: 6.2065e-04 - accuracy: 1.0000 - val_loss: 0.0586 - val_accuracy: 0.9892\n",
            "Epoch 15/50\n",
            "1688/1688 [==============================] - 33s 20ms/step - loss: 5.0910e-04 - accuracy: 1.0000 - val_loss: 0.0592 - val_accuracy: 0.9890\n",
            "Epoch 16/50\n",
            "1688/1688 [==============================] - 33s 20ms/step - loss: 4.3360e-04 - accuracy: 1.0000 - val_loss: 0.0599 - val_accuracy: 0.9888\n",
            "Epoch 17/50\n",
            "1688/1688 [==============================] - 33s 20ms/step - loss: 4.0139e-04 - accuracy: 1.0000 - val_loss: 0.0604 - val_accuracy: 0.9890\n",
            "Epoch 18/50\n",
            "1688/1688 [==============================] - 33s 20ms/step - loss: 3.5794e-04 - accuracy: 1.0000 - val_loss: 0.0600 - val_accuracy: 0.9892\n",
            "Epoch 19/50\n",
            "1688/1688 [==============================] - 34s 20ms/step - loss: 3.2551e-04 - accuracy: 1.0000 - val_loss: 0.0615 - val_accuracy: 0.9890\n",
            "Epoch 20/50\n",
            "1688/1688 [==============================] - 34s 20ms/step - loss: 2.9920e-04 - accuracy: 1.0000 - val_loss: 0.0621 - val_accuracy: 0.9890\n",
            "Epoch 21/50\n",
            "1688/1688 [==============================] - 33s 20ms/step - loss: 2.7473e-04 - accuracy: 1.0000 - val_loss: 0.0630 - val_accuracy: 0.9888\n",
            "Epoch 22/50\n",
            "1688/1688 [==============================] - 34s 20ms/step - loss: 2.6459e-04 - accuracy: 1.0000 - val_loss: 0.0630 - val_accuracy: 0.9890\n",
            "Epoch 23/50\n",
            "1688/1688 [==============================] - 34s 20ms/step - loss: 2.4190e-04 - accuracy: 1.0000 - val_loss: 0.0635 - val_accuracy: 0.9890\n",
            "Epoch 24/50\n",
            "1688/1688 [==============================] - 34s 20ms/step - loss: 2.3002e-04 - accuracy: 1.0000 - val_loss: 0.0637 - val_accuracy: 0.9888\n",
            "Epoch 25/50\n",
            "1688/1688 [==============================] - 34s 20ms/step - loss: 2.1481e-04 - accuracy: 1.0000 - val_loss: 0.0641 - val_accuracy: 0.9892\n",
            "Epoch 26/50\n",
            "1688/1688 [==============================] - 34s 20ms/step - loss: 2.0404e-04 - accuracy: 1.0000 - val_loss: 0.0646 - val_accuracy: 0.9890\n",
            "Epoch 27/50\n",
            "1688/1688 [==============================] - 34s 20ms/step - loss: 1.9128e-04 - accuracy: 1.0000 - val_loss: 0.0656 - val_accuracy: 0.9888\n",
            "Epoch 28/50\n",
            "1688/1688 [==============================] - 34s 20ms/step - loss: 1.8385e-04 - accuracy: 1.0000 - val_loss: 0.0646 - val_accuracy: 0.9890\n",
            "Epoch 29/50\n",
            "1688/1688 [==============================] - 35s 21ms/step - loss: 1.7406e-04 - accuracy: 1.0000 - val_loss: 0.0654 - val_accuracy: 0.9890\n",
            "Epoch 30/50\n",
            "1688/1688 [==============================] - 35s 21ms/step - loss: 1.6707e-04 - accuracy: 1.0000 - val_loss: 0.0659 - val_accuracy: 0.9895\n",
            "Epoch 31/50\n",
            "1688/1688 [==============================] - 35s 21ms/step - loss: 1.5906e-04 - accuracy: 1.0000 - val_loss: 0.0659 - val_accuracy: 0.9890\n",
            "Epoch 32/50\n",
            "1688/1688 [==============================] - 35s 21ms/step - loss: 1.5319e-04 - accuracy: 1.0000 - val_loss: 0.0663 - val_accuracy: 0.9892\n",
            "Epoch 33/50\n",
            "1688/1688 [==============================] - 34s 20ms/step - loss: 1.4580e-04 - accuracy: 1.0000 - val_loss: 0.0662 - val_accuracy: 0.9892\n",
            "Epoch 34/50\n",
            "1688/1688 [==============================] - 34s 20ms/step - loss: 1.3869e-04 - accuracy: 1.0000 - val_loss: 0.0669 - val_accuracy: 0.9893\n",
            "Epoch 35/50\n",
            "1688/1688 [==============================] - 34s 20ms/step - loss: 1.3544e-04 - accuracy: 1.0000 - val_loss: 0.0668 - val_accuracy: 0.9893\n",
            "Epoch 36/50\n",
            "1688/1688 [==============================] - 34s 20ms/step - loss: 1.2982e-04 - accuracy: 1.0000 - val_loss: 0.0670 - val_accuracy: 0.9892\n",
            "Epoch 37/50\n",
            "1688/1688 [==============================] - 34s 20ms/step - loss: 1.2579e-04 - accuracy: 1.0000 - val_loss: 0.0670 - val_accuracy: 0.9892\n",
            "Epoch 38/50\n",
            "1688/1688 [==============================] - 34s 20ms/step - loss: 1.2073e-04 - accuracy: 1.0000 - val_loss: 0.0676 - val_accuracy: 0.9895\n",
            "Epoch 39/50\n",
            "1688/1688 [==============================] - 34s 20ms/step - loss: 1.1738e-04 - accuracy: 1.0000 - val_loss: 0.0683 - val_accuracy: 0.9893\n",
            "Epoch 40/50\n",
            "1688/1688 [==============================] - 34s 20ms/step - loss: 1.1322e-04 - accuracy: 1.0000 - val_loss: 0.0684 - val_accuracy: 0.9893\n",
            "Epoch 41/50\n",
            "1688/1688 [==============================] - 34s 20ms/step - loss: 1.0932e-04 - accuracy: 1.0000 - val_loss: 0.0688 - val_accuracy: 0.9892\n",
            "Epoch 42/50\n",
            "1688/1688 [==============================] - 34s 20ms/step - loss: 1.0619e-04 - accuracy: 1.0000 - val_loss: 0.0688 - val_accuracy: 0.9893\n",
            "Epoch 43/50\n",
            "1688/1688 [==============================] - 34s 20ms/step - loss: 1.0302e-04 - accuracy: 1.0000 - val_loss: 0.0691 - val_accuracy: 0.9893\n",
            "Epoch 44/50\n",
            "1688/1688 [==============================] - 34s 20ms/step - loss: 1.0010e-04 - accuracy: 1.0000 - val_loss: 0.0691 - val_accuracy: 0.9893\n",
            "Epoch 45/50\n",
            "1688/1688 [==============================] - 34s 20ms/step - loss: 9.7020e-05 - accuracy: 1.0000 - val_loss: 0.0697 - val_accuracy: 0.9890\n",
            "Epoch 46/50\n",
            "1688/1688 [==============================] - 34s 20ms/step - loss: 9.4119e-05 - accuracy: 1.0000 - val_loss: 0.0691 - val_accuracy: 0.9892\n",
            "Epoch 47/50\n",
            "1688/1688 [==============================] - 34s 20ms/step - loss: 9.1857e-05 - accuracy: 1.0000 - val_loss: 0.0698 - val_accuracy: 0.9893\n",
            "Epoch 48/50\n",
            "1688/1688 [==============================] - 34s 20ms/step - loss: 8.9414e-05 - accuracy: 1.0000 - val_loss: 0.0701 - val_accuracy: 0.9892\n",
            "Epoch 49/50\n",
            "1688/1688 [==============================] - 34s 20ms/step - loss: 8.7271e-05 - accuracy: 1.0000 - val_loss: 0.0699 - val_accuracy: 0.9893\n",
            "Epoch 50/50\n",
            "1688/1688 [==============================] - 34s 20ms/step - loss: 8.4909e-05 - accuracy: 1.0000 - val_loss: 0.0703 - val_accuracy: 0.9893\n"
          ]
        }
      ]
    },
    {
      "cell_type": "markdown",
      "metadata": {
        "id": "Zm901tgp0KpX"
      },
      "source": [
        "## e. Experimentation"
      ]
    },
    {
      "cell_type": "code",
      "metadata": {
        "colab": {
          "base_uri": "https://localhost:8080/"
        },
        "id": "4cd9U2uNwbqp",
        "outputId": "8bcc4fb6-1687-4f58-8932-6fc1f99ce946"
      },
      "source": [
        "epoch_history = model.fit(train_X, train_Y, batch_size=32, epochs=50, validation_split =0.1)\n",
        "\n",
        "# print validation and training accuracy over epochs\n",
        "print(epoch_history.history['accuracy']) \n",
        "print(epoch_history.history['val_accuracy'])\n",
        "\n",
        "\n"
      ],
      "execution_count": 12,
      "outputs": [
        {
          "output_type": "stream",
          "name": "stdout",
          "text": [
            "Epoch 1/50\n",
            "1688/1688 [==============================] - 34s 20ms/step - loss: 8.2730e-05 - accuracy: 1.0000 - val_loss: 0.0706 - val_accuracy: 0.9893\n",
            "Epoch 2/50\n",
            "1688/1688 [==============================] - 33s 20ms/step - loss: 8.0604e-05 - accuracy: 1.0000 - val_loss: 0.0703 - val_accuracy: 0.9893\n",
            "Epoch 3/50\n",
            "1688/1688 [==============================] - 34s 20ms/step - loss: 7.8886e-05 - accuracy: 1.0000 - val_loss: 0.0711 - val_accuracy: 0.9893\n",
            "Epoch 4/50\n",
            "1688/1688 [==============================] - 34s 20ms/step - loss: 7.7298e-05 - accuracy: 1.0000 - val_loss: 0.0709 - val_accuracy: 0.9895\n",
            "Epoch 5/50\n",
            "1688/1688 [==============================] - 34s 20ms/step - loss: 7.5534e-05 - accuracy: 1.0000 - val_loss: 0.0710 - val_accuracy: 0.9893\n",
            "Epoch 6/50\n",
            "1688/1688 [==============================] - 33s 20ms/step - loss: 7.3595e-05 - accuracy: 1.0000 - val_loss: 0.0712 - val_accuracy: 0.9893\n",
            "Epoch 7/50\n",
            "1688/1688 [==============================] - 33s 20ms/step - loss: 7.2128e-05 - accuracy: 1.0000 - val_loss: 0.0714 - val_accuracy: 0.9893\n",
            "Epoch 8/50\n",
            "1688/1688 [==============================] - 33s 20ms/step - loss: 7.0304e-05 - accuracy: 1.0000 - val_loss: 0.0718 - val_accuracy: 0.9893\n",
            "Epoch 9/50\n",
            "1688/1688 [==============================] - 33s 20ms/step - loss: 6.9026e-05 - accuracy: 1.0000 - val_loss: 0.0716 - val_accuracy: 0.9893\n",
            "Epoch 10/50\n",
            "1688/1688 [==============================] - 34s 20ms/step - loss: 6.7434e-05 - accuracy: 1.0000 - val_loss: 0.0719 - val_accuracy: 0.9893\n",
            "Epoch 11/50\n",
            "1688/1688 [==============================] - 34s 20ms/step - loss: 6.6133e-05 - accuracy: 1.0000 - val_loss: 0.0717 - val_accuracy: 0.9895\n",
            "Epoch 12/50\n",
            "1688/1688 [==============================] - 34s 20ms/step - loss: 6.4922e-05 - accuracy: 1.0000 - val_loss: 0.0724 - val_accuracy: 0.9893\n",
            "Epoch 13/50\n",
            "1688/1688 [==============================] - 34s 20ms/step - loss: 6.3548e-05 - accuracy: 1.0000 - val_loss: 0.0726 - val_accuracy: 0.9893\n",
            "Epoch 14/50\n",
            "1688/1688 [==============================] - 34s 20ms/step - loss: 6.2274e-05 - accuracy: 1.0000 - val_loss: 0.0725 - val_accuracy: 0.9897\n",
            "Epoch 15/50\n",
            "1688/1688 [==============================] - 34s 20ms/step - loss: 6.1082e-05 - accuracy: 1.0000 - val_loss: 0.0725 - val_accuracy: 0.9893\n",
            "Epoch 16/50\n",
            "1688/1688 [==============================] - 34s 20ms/step - loss: 6.0101e-05 - accuracy: 1.0000 - val_loss: 0.0725 - val_accuracy: 0.9893\n",
            "Epoch 17/50\n",
            "1688/1688 [==============================] - 34s 20ms/step - loss: 5.8868e-05 - accuracy: 1.0000 - val_loss: 0.0727 - val_accuracy: 0.9893\n",
            "Epoch 18/50\n",
            "1688/1688 [==============================] - 34s 20ms/step - loss: 5.7684e-05 - accuracy: 1.0000 - val_loss: 0.0730 - val_accuracy: 0.9893\n",
            "Epoch 19/50\n",
            "1688/1688 [==============================] - 34s 20ms/step - loss: 5.6763e-05 - accuracy: 1.0000 - val_loss: 0.0730 - val_accuracy: 0.9893\n",
            "Epoch 20/50\n",
            "1688/1688 [==============================] - 34s 20ms/step - loss: 5.5732e-05 - accuracy: 1.0000 - val_loss: 0.0730 - val_accuracy: 0.9893\n",
            "Epoch 21/50\n",
            "1688/1688 [==============================] - 34s 20ms/step - loss: 5.4706e-05 - accuracy: 1.0000 - val_loss: 0.0734 - val_accuracy: 0.9893\n",
            "Epoch 22/50\n",
            "1688/1688 [==============================] - 34s 20ms/step - loss: 5.3810e-05 - accuracy: 1.0000 - val_loss: 0.0736 - val_accuracy: 0.9893\n",
            "Epoch 23/50\n",
            "1688/1688 [==============================] - 34s 20ms/step - loss: 5.2918e-05 - accuracy: 1.0000 - val_loss: 0.0738 - val_accuracy: 0.9893\n",
            "Epoch 24/50\n",
            "1688/1688 [==============================] - 34s 20ms/step - loss: 5.2007e-05 - accuracy: 1.0000 - val_loss: 0.0735 - val_accuracy: 0.9893\n",
            "Epoch 25/50\n",
            "1688/1688 [==============================] - 34s 20ms/step - loss: 5.1206e-05 - accuracy: 1.0000 - val_loss: 0.0738 - val_accuracy: 0.9895\n",
            "Epoch 26/50\n",
            "1688/1688 [==============================] - 34s 20ms/step - loss: 5.0237e-05 - accuracy: 1.0000 - val_loss: 0.0738 - val_accuracy: 0.9895\n",
            "Epoch 27/50\n",
            "1688/1688 [==============================] - 34s 20ms/step - loss: 4.9446e-05 - accuracy: 1.0000 - val_loss: 0.0742 - val_accuracy: 0.9893\n",
            "Epoch 28/50\n",
            "1688/1688 [==============================] - 34s 20ms/step - loss: 4.8693e-05 - accuracy: 1.0000 - val_loss: 0.0742 - val_accuracy: 0.9893\n",
            "Epoch 29/50\n",
            "1688/1688 [==============================] - 34s 20ms/step - loss: 4.8042e-05 - accuracy: 1.0000 - val_loss: 0.0744 - val_accuracy: 0.9893\n",
            "Epoch 30/50\n",
            "1688/1688 [==============================] - 35s 21ms/step - loss: 4.7228e-05 - accuracy: 1.0000 - val_loss: 0.0746 - val_accuracy: 0.9893\n",
            "Epoch 31/50\n",
            "1688/1688 [==============================] - 35s 21ms/step - loss: 4.6562e-05 - accuracy: 1.0000 - val_loss: 0.0745 - val_accuracy: 0.9893\n",
            "Epoch 32/50\n",
            "1688/1688 [==============================] - 35s 21ms/step - loss: 4.5807e-05 - accuracy: 1.0000 - val_loss: 0.0750 - val_accuracy: 0.9893\n",
            "Epoch 33/50\n",
            "1688/1688 [==============================] - 34s 20ms/step - loss: 4.5195e-05 - accuracy: 1.0000 - val_loss: 0.0747 - val_accuracy: 0.9893\n",
            "Epoch 34/50\n",
            "1688/1688 [==============================] - 34s 20ms/step - loss: 4.4556e-05 - accuracy: 1.0000 - val_loss: 0.0747 - val_accuracy: 0.9893\n",
            "Epoch 35/50\n",
            "1688/1688 [==============================] - 34s 20ms/step - loss: 4.3961e-05 - accuracy: 1.0000 - val_loss: 0.0747 - val_accuracy: 0.9893\n",
            "Epoch 36/50\n",
            "1688/1688 [==============================] - 34s 20ms/step - loss: 4.3281e-05 - accuracy: 1.0000 - val_loss: 0.0755 - val_accuracy: 0.9893\n",
            "Epoch 37/50\n",
            "1688/1688 [==============================] - 34s 20ms/step - loss: 4.2668e-05 - accuracy: 1.0000 - val_loss: 0.0752 - val_accuracy: 0.9893\n",
            "Epoch 38/50\n",
            "1688/1688 [==============================] - 34s 20ms/step - loss: 4.2090e-05 - accuracy: 1.0000 - val_loss: 0.0752 - val_accuracy: 0.9893\n",
            "Epoch 39/50\n",
            "1688/1688 [==============================] - 34s 20ms/step - loss: 4.1457e-05 - accuracy: 1.0000 - val_loss: 0.0754 - val_accuracy: 0.9893\n",
            "Epoch 40/50\n",
            "1688/1688 [==============================] - 34s 20ms/step - loss: 4.0890e-05 - accuracy: 1.0000 - val_loss: 0.0751 - val_accuracy: 0.9893\n",
            "Epoch 41/50\n",
            "1688/1688 [==============================] - 34s 20ms/step - loss: 4.0352e-05 - accuracy: 1.0000 - val_loss: 0.0755 - val_accuracy: 0.9893\n",
            "Epoch 42/50\n",
            "1688/1688 [==============================] - 34s 20ms/step - loss: 3.9910e-05 - accuracy: 1.0000 - val_loss: 0.0757 - val_accuracy: 0.9893\n",
            "Epoch 43/50\n",
            "1688/1688 [==============================] - 34s 20ms/step - loss: 3.9325e-05 - accuracy: 1.0000 - val_loss: 0.0757 - val_accuracy: 0.9893\n",
            "Epoch 44/50\n",
            "1688/1688 [==============================] - 34s 20ms/step - loss: 3.8864e-05 - accuracy: 1.0000 - val_loss: 0.0757 - val_accuracy: 0.9893\n",
            "Epoch 45/50\n",
            "1688/1688 [==============================] - 34s 20ms/step - loss: 3.8344e-05 - accuracy: 1.0000 - val_loss: 0.0760 - val_accuracy: 0.9893\n",
            "Epoch 46/50\n",
            "1688/1688 [==============================] - 34s 20ms/step - loss: 3.7656e-05 - accuracy: 1.0000 - val_loss: 0.0762 - val_accuracy: 0.9893\n",
            "Epoch 47/50\n",
            "1688/1688 [==============================] - 34s 20ms/step - loss: 3.7341e-05 - accuracy: 1.0000 - val_loss: 0.0762 - val_accuracy: 0.9893\n",
            "Epoch 48/50\n",
            "1688/1688 [==============================] - 34s 20ms/step - loss: 3.6859e-05 - accuracy: 1.0000 - val_loss: 0.0764 - val_accuracy: 0.9895\n",
            "Epoch 49/50\n",
            "1688/1688 [==============================] - 34s 20ms/step - loss: 3.6484e-05 - accuracy: 1.0000 - val_loss: 0.0763 - val_accuracy: 0.9893\n",
            "Epoch 50/50\n",
            "1688/1688 [==============================] - 34s 20ms/step - loss: 3.6080e-05 - accuracy: 1.0000 - val_loss: 0.0762 - val_accuracy: 0.9893\n",
            "[1.0, 1.0, 1.0, 1.0, 1.0, 1.0, 1.0, 1.0, 1.0, 1.0, 1.0, 1.0, 1.0, 1.0, 1.0, 1.0, 1.0, 1.0, 1.0, 1.0, 1.0, 1.0, 1.0, 1.0, 1.0, 1.0, 1.0, 1.0, 1.0, 1.0, 1.0, 1.0, 1.0, 1.0, 1.0, 1.0, 1.0, 1.0, 1.0, 1.0, 1.0, 1.0, 1.0, 1.0, 1.0, 1.0, 1.0, 1.0, 1.0, 1.0]\n",
            "[0.9893333315849304, 0.9893333315849304, 0.9893333315849304, 0.9894999861717224, 0.9893333315849304, 0.9893333315849304, 0.9893333315849304, 0.9893333315849304, 0.9893333315849304, 0.9893333315849304, 0.9894999861717224, 0.9893333315849304, 0.9893333315849304, 0.9896666407585144, 0.9893333315849304, 0.9893333315849304, 0.9893333315849304, 0.9893333315849304, 0.9893333315849304, 0.9893333315849304, 0.9893333315849304, 0.9893333315849304, 0.9893333315849304, 0.9893333315849304, 0.9894999861717224, 0.9894999861717224, 0.9893333315849304, 0.9893333315849304, 0.9893333315849304, 0.9893333315849304, 0.9893333315849304, 0.9893333315849304, 0.9893333315849304, 0.9893333315849304, 0.9893333315849304, 0.9893333315849304, 0.9893333315849304, 0.9893333315849304, 0.9893333315849304, 0.9893333315849304, 0.9893333315849304, 0.9893333315849304, 0.9893333315849304, 0.9893333315849304, 0.9893333315849304, 0.9893333315849304, 0.9893333315849304, 0.9894999861717224, 0.9893333315849304, 0.9893333315849304]\n"
          ]
        }
      ]
    },
    {
      "cell_type": "code",
      "metadata": {
        "colab": {
          "base_uri": "https://localhost:8080/",
          "height": 295
        },
        "id": "JZC2sVrh0b28",
        "outputId": "dbc4bcbf-99aa-45d9-f25b-266304a9b4fa"
      },
      "source": [
        "from matplotlib import pyplot as plt\n",
        "\n",
        "plt.plot(epoch_history.history['accuracy'])\n",
        "plt.plot(epoch_history.history['val_accuracy'])\n",
        "plt.title('Model Accuracy')\n",
        "plt.ylabel('Accutacy')\n",
        "plt.xlabel('Number of Epochs')\n",
        "plt.legend(['train', 'val'], loc='upper left')\n",
        "plt.show()"
      ],
      "execution_count": 13,
      "outputs": [
        {
          "output_type": "display_data",
          "data": {
            "image/png": "[encoded data removed]",
            "text/plain": [
              "<Figure size 432x288 with 1 Axes>"
            ]
          },
          "metadata": {
            "needs_background": "light"
          }
        }
      ]
    },
    {
      "cell_type": "markdown",
      "metadata": {
        "id": "DT3idHNqzwSh"
      },
      "source": [
        "ii. Dropout layer\n"
      ]
    },
    {
      "cell_type": "code",
      "metadata": {
        "id": "UZY2CLlw0blu"
      },
      "source": [
        "from keras.layers import Dropout\n",
        "\n",
        "def create_cnn_with_dropout( ):\n",
        "  # define using Sequential\n",
        "  model = Sequential()\n",
        "  # Convolution layer\n",
        "  model.add(\n",
        "      Conv2D(32, (3, 3),\n",
        "      activation= 'relu',\n",
        "      kernel_initializer='he_uniform',\n",
        "      input_shape=(28, 28, 1))\n",
        "      )\n",
        "  # Maxpooling layer\n",
        "  model.add(MaxPooling2D((2, 2)))\n",
        "  # Flatten output\n",
        "  model.add(Flatten())\n",
        "  # Dropout Layer\n",
        "  model.add(Dropout(0.5)) \n",
        "  # Dense layer of 100 neurons\n",
        "  model.add(\n",
        "      Dense (100,\n",
        "      activation= 'relu',\n",
        "      kernel_initializer='he_uniform') \n",
        "      )\n",
        "  model.add(Dense(10, activation='softmax')) # initialize optimizer\n",
        "  opt = SGD(lr=0.01, momentum=0.9)\n",
        "  # compile model\n",
        "  model.compile(\n",
        "      optimizer=opt,\n",
        "      loss= 'categorical_crossentropy',\n",
        "      metrics =['accuracy']\n",
        "      )\n",
        "  \n",
        "  #print(model.layers)\n",
        "\n",
        "  return model"
      ],
      "execution_count": 8,
      "outputs": []
    },
    {
      "cell_type": "code",
      "metadata": {
        "colab": {
          "base_uri": "https://localhost:8080/"
        },
        "id": "27zf3gAx3vQj",
        "outputId": "56ebd7d5-3e2d-439f-9d62-02093f7e3074"
      },
      "source": [
        "new_model = create_cnn_with_dropout()\n",
        "\n",
        "new_model.fit(train_X, train_Y, batch_size=32, epochs=50, validation_split =0.1)\n",
        "score = new_model.evaluate(test_X, test_Y, verbose=0)\n",
        "dropout_history = new_model.fit(train_X, train_Y, batch_size=32, epochs=50, validation_split =0.1)\n"
      ],
      "execution_count": 9,
      "outputs": [
        {
          "output_type": "stream",
          "name": "stderr",
          "text": [
            "/usr/local/lib/python3.7/dist-packages/keras/optimizer_v2/gradient_descent.py:102: UserWarning: The `lr` argument is deprecated, use `learning_rate` instead.\n",
            "  super(SGD, self).__init__(name, **kwargs)\n"
          ]
        },
        {
          "output_type": "stream",
          "name": "stdout",
          "text": [
            "Epoch 1/50\n",
            "1688/1688 [==============================] - 38s 22ms/step - loss: 0.2245 - accuracy: 0.9300 - val_loss: 0.0638 - val_accuracy: 0.9837\n",
            "Epoch 2/50\n",
            "1688/1688 [==============================] - 37s 22ms/step - loss: 0.0911 - accuracy: 0.9719 - val_loss: 0.0511 - val_accuracy: 0.9857\n",
            "Epoch 3/50\n",
            "1688/1688 [==============================] - 37s 22ms/step - loss: 0.0657 - accuracy: 0.9794 - val_loss: 0.0462 - val_accuracy: 0.9873\n",
            "Epoch 4/50\n",
            "1688/1688 [==============================] - 37s 22ms/step - loss: 0.0530 - accuracy: 0.9828 - val_loss: 0.0421 - val_accuracy: 0.9885\n",
            "Epoch 5/50\n",
            "1688/1688 [==============================] - 36s 22ms/step - loss: 0.0461 - accuracy: 0.9851 - val_loss: 0.0415 - val_accuracy: 0.9885\n",
            "Epoch 6/50\n",
            "1688/1688 [==============================] - 36s 21ms/step - loss: 0.0383 - accuracy: 0.9867 - val_loss: 0.0409 - val_accuracy: 0.9885\n",
            "Epoch 7/50\n",
            "1688/1688 [==============================] - 36s 21ms/step - loss: 0.0350 - accuracy: 0.9882 - val_loss: 0.0390 - val_accuracy: 0.9895\n",
            "Epoch 8/50\n",
            "1688/1688 [==============================] - 36s 21ms/step - loss: 0.0293 - accuracy: 0.9904 - val_loss: 0.0407 - val_accuracy: 0.9895\n",
            "Epoch 9/50\n",
            "1688/1688 [==============================] - 36s 21ms/step - loss: 0.0273 - accuracy: 0.9914 - val_loss: 0.0427 - val_accuracy: 0.9890\n",
            "Epoch 10/50\n",
            "1688/1688 [==============================] - 36s 21ms/step - loss: 0.0261 - accuracy: 0.9913 - val_loss: 0.0413 - val_accuracy: 0.9897\n",
            "Epoch 11/50\n",
            "1688/1688 [==============================] - 36s 21ms/step - loss: 0.0225 - accuracy: 0.9925 - val_loss: 0.0402 - val_accuracy: 0.9893\n",
            "Epoch 12/50\n",
            "1688/1688 [==============================] - 36s 21ms/step - loss: 0.0199 - accuracy: 0.9936 - val_loss: 0.0457 - val_accuracy: 0.9882\n",
            "Epoch 13/50\n",
            "1688/1688 [==============================] - 36s 21ms/step - loss: 0.0197 - accuracy: 0.9934 - val_loss: 0.0391 - val_accuracy: 0.9903\n",
            "Epoch 14/50\n",
            "1688/1688 [==============================] - 36s 21ms/step - loss: 0.0174 - accuracy: 0.9939 - val_loss: 0.0427 - val_accuracy: 0.9902\n",
            "Epoch 15/50\n",
            "1688/1688 [==============================] - 36s 21ms/step - loss: 0.0168 - accuracy: 0.9946 - val_loss: 0.0450 - val_accuracy: 0.9897\n",
            "Epoch 16/50\n",
            "1688/1688 [==============================] - 36s 21ms/step - loss: 0.0160 - accuracy: 0.9945 - val_loss: 0.0450 - val_accuracy: 0.9898\n",
            "Epoch 17/50\n",
            "1688/1688 [==============================] - 36s 21ms/step - loss: 0.0145 - accuracy: 0.9950 - val_loss: 0.0399 - val_accuracy: 0.9908\n",
            "Epoch 18/50\n",
            "1688/1688 [==============================] - 36s 21ms/step - loss: 0.0127 - accuracy: 0.9957 - val_loss: 0.0451 - val_accuracy: 0.9895\n",
            "Epoch 19/50\n",
            "1688/1688 [==============================] - 36s 21ms/step - loss: 0.0123 - accuracy: 0.9958 - val_loss: 0.0425 - val_accuracy: 0.9898\n",
            "Epoch 20/50\n",
            "1688/1688 [==============================] - 36s 21ms/step - loss: 0.0122 - accuracy: 0.9957 - val_loss: 0.0436 - val_accuracy: 0.9903\n",
            "Epoch 21/50\n",
            "1688/1688 [==============================] - 36s 22ms/step - loss: 0.0118 - accuracy: 0.9960 - val_loss: 0.0405 - val_accuracy: 0.9903\n",
            "Epoch 22/50\n",
            "1688/1688 [==============================] - 36s 22ms/step - loss: 0.0104 - accuracy: 0.9963 - val_loss: 0.0409 - val_accuracy: 0.9913\n",
            "Epoch 23/50\n",
            "1688/1688 [==============================] - 36s 21ms/step - loss: 0.0098 - accuracy: 0.9966 - val_loss: 0.0429 - val_accuracy: 0.9902\n",
            "Epoch 24/50\n",
            "1688/1688 [==============================] - 36s 21ms/step - loss: 0.0101 - accuracy: 0.9964 - val_loss: 0.0395 - val_accuracy: 0.9900\n",
            "Epoch 25/50\n",
            "1688/1688 [==============================] - 36s 21ms/step - loss: 0.0102 - accuracy: 0.9966 - val_loss: 0.0416 - val_accuracy: 0.9903\n",
            "Epoch 26/50\n",
            "1688/1688 [==============================] - 36s 21ms/step - loss: 0.0091 - accuracy: 0.9971 - val_loss: 0.0448 - val_accuracy: 0.9912\n",
            "Epoch 27/50\n",
            "1688/1688 [==============================] - 36s 21ms/step - loss: 0.0094 - accuracy: 0.9967 - val_loss: 0.0446 - val_accuracy: 0.9910\n",
            "Epoch 28/50\n",
            "1688/1688 [==============================] - 36s 21ms/step - loss: 0.0086 - accuracy: 0.9970 - val_loss: 0.0467 - val_accuracy: 0.9908\n",
            "Epoch 29/50\n",
            "1688/1688 [==============================] - 36s 21ms/step - loss: 0.0086 - accuracy: 0.9968 - val_loss: 0.0423 - val_accuracy: 0.9915\n",
            "Epoch 30/50\n",
            "1688/1688 [==============================] - 36s 21ms/step - loss: 0.0082 - accuracy: 0.9971 - val_loss: 0.0432 - val_accuracy: 0.9913\n",
            "Epoch 31/50\n",
            "1688/1688 [==============================] - 36s 21ms/step - loss: 0.0070 - accuracy: 0.9977 - val_loss: 0.0465 - val_accuracy: 0.9907\n",
            "Epoch 32/50\n",
            "1688/1688 [==============================] - 36s 21ms/step - loss: 0.0077 - accuracy: 0.9976 - val_loss: 0.0441 - val_accuracy: 0.9912\n",
            "Epoch 33/50\n",
            "1688/1688 [==============================] - 36s 21ms/step - loss: 0.0072 - accuracy: 0.9975 - val_loss: 0.0443 - val_accuracy: 0.9913\n",
            "Epoch 34/50\n",
            "1688/1688 [==============================] - 36s 22ms/step - loss: 0.0071 - accuracy: 0.9978 - val_loss: 0.0451 - val_accuracy: 0.9912\n",
            "Epoch 35/50\n",
            "1688/1688 [==============================] - 36s 21ms/step - loss: 0.0065 - accuracy: 0.9978 - val_loss: 0.0398 - val_accuracy: 0.9907\n",
            "Epoch 36/50\n",
            "1688/1688 [==============================] - 36s 21ms/step - loss: 0.0066 - accuracy: 0.9976 - val_loss: 0.0466 - val_accuracy: 0.9902\n",
            "Epoch 37/50\n",
            "1688/1688 [==============================] - 36s 21ms/step - loss: 0.0067 - accuracy: 0.9974 - val_loss: 0.0475 - val_accuracy: 0.9903\n",
            "Epoch 38/50\n",
            "1688/1688 [==============================] - 36s 21ms/step - loss: 0.0061 - accuracy: 0.9979 - val_loss: 0.0497 - val_accuracy: 0.9907\n",
            "Epoch 39/50\n",
            "1688/1688 [==============================] - 36s 22ms/step - loss: 0.0056 - accuracy: 0.9978 - val_loss: 0.0474 - val_accuracy: 0.9907\n",
            "Epoch 40/50\n",
            "1688/1688 [==============================] - 36s 22ms/step - loss: 0.0063 - accuracy: 0.9979 - val_loss: 0.0425 - val_accuracy: 0.9907\n",
            "Epoch 41/50\n",
            "1688/1688 [==============================] - 36s 22ms/step - loss: 0.0057 - accuracy: 0.9980 - val_loss: 0.0412 - val_accuracy: 0.9908\n",
            "Epoch 42/50\n",
            "1688/1688 [==============================] - 36s 21ms/step - loss: 0.0059 - accuracy: 0.9979 - val_loss: 0.0424 - val_accuracy: 0.9910\n",
            "Epoch 43/50\n",
            "1688/1688 [==============================] - 36s 21ms/step - loss: 0.0058 - accuracy: 0.9981 - val_loss: 0.0419 - val_accuracy: 0.9913\n",
            "Epoch 44/50\n",
            "1688/1688 [==============================] - 36s 21ms/step - loss: 0.0060 - accuracy: 0.9979 - val_loss: 0.0440 - val_accuracy: 0.9907\n",
            "Epoch 45/50\n",
            "1688/1688 [==============================] - 36s 21ms/step - loss: 0.0055 - accuracy: 0.9982 - val_loss: 0.0440 - val_accuracy: 0.9912\n",
            "Epoch 46/50\n",
            "1688/1688 [==============================] - 36s 22ms/step - loss: 0.0059 - accuracy: 0.9980 - val_loss: 0.0447 - val_accuracy: 0.9913\n",
            "Epoch 47/50\n",
            "1688/1688 [==============================] - 37s 22ms/step - loss: 0.0048 - accuracy: 0.9983 - val_loss: 0.0488 - val_accuracy: 0.9900\n",
            "Epoch 48/50\n",
            "1688/1688 [==============================] - 36s 22ms/step - loss: 0.0045 - accuracy: 0.9987 - val_loss: 0.0454 - val_accuracy: 0.9912\n",
            "Epoch 49/50\n",
            "1688/1688 [==============================] - 36s 21ms/step - loss: 0.0049 - accuracy: 0.9982 - val_loss: 0.0415 - val_accuracy: 0.9920\n",
            "Epoch 50/50\n",
            "1688/1688 [==============================] - 36s 21ms/step - loss: 0.0051 - accuracy: 0.9983 - val_loss: 0.0495 - val_accuracy: 0.9908\n",
            "Epoch 1/50\n",
            "1688/1688 [==============================] - 36s 22ms/step - loss: 0.0051 - accuracy: 0.9981 - val_loss: 0.0431 - val_accuracy: 0.9918\n",
            "Epoch 2/50\n",
            "1688/1688 [==============================] - 36s 22ms/step - loss: 0.0047 - accuracy: 0.9984 - val_loss: 0.0430 - val_accuracy: 0.9918\n",
            "Epoch 3/50\n",
            "1688/1688 [==============================] - 36s 21ms/step - loss: 0.0049 - accuracy: 0.9982 - val_loss: 0.0482 - val_accuracy: 0.9917\n",
            "Epoch 4/50\n",
            "1688/1688 [==============================] - 36s 21ms/step - loss: 0.0048 - accuracy: 0.9984 - val_loss: 0.0459 - val_accuracy: 0.9910\n",
            "Epoch 5/50\n",
            "1688/1688 [==============================] - 36s 21ms/step - loss: 0.0042 - accuracy: 0.9985 - val_loss: 0.0463 - val_accuracy: 0.9913\n",
            "Epoch 6/50\n",
            "1688/1688 [==============================] - 36s 22ms/step - loss: 0.0052 - accuracy: 0.9981 - val_loss: 0.0479 - val_accuracy: 0.9913\n",
            "Epoch 7/50\n",
            "1688/1688 [==============================] - 36s 21ms/step - loss: 0.0035 - accuracy: 0.9989 - val_loss: 0.0496 - val_accuracy: 0.9913\n",
            "Epoch 8/50\n",
            "1688/1688 [==============================] - 36s 21ms/step - loss: 0.0046 - accuracy: 0.9985 - val_loss: 0.0498 - val_accuracy: 0.9913\n",
            "Epoch 9/50\n",
            "1688/1688 [==============================] - 36s 21ms/step - loss: 0.0047 - accuracy: 0.9983 - val_loss: 0.0446 - val_accuracy: 0.9922\n",
            "Epoch 10/50\n",
            "1688/1688 [==============================] - 36s 21ms/step - loss: 0.0038 - accuracy: 0.9987 - val_loss: 0.0483 - val_accuracy: 0.9903\n",
            "Epoch 11/50\n",
            "1688/1688 [==============================] - 36s 21ms/step - loss: 0.0040 - accuracy: 0.9987 - val_loss: 0.0469 - val_accuracy: 0.9913\n",
            "Epoch 12/50\n",
            "1688/1688 [==============================] - 36s 21ms/step - loss: 0.0039 - accuracy: 0.9987 - val_loss: 0.0453 - val_accuracy: 0.9913\n",
            "Epoch 13/50\n",
            "1688/1688 [==============================] - 36s 21ms/step - loss: 0.0035 - accuracy: 0.9987 - val_loss: 0.0495 - val_accuracy: 0.9910\n",
            "Epoch 14/50\n",
            "1688/1688 [==============================] - 37s 22ms/step - loss: 0.0037 - accuracy: 0.9987 - val_loss: 0.0482 - val_accuracy: 0.9927\n",
            "Epoch 15/50\n",
            "1688/1688 [==============================] - 36s 21ms/step - loss: 0.0033 - accuracy: 0.9989 - val_loss: 0.0484 - val_accuracy: 0.9920\n",
            "Epoch 16/50\n",
            "1688/1688 [==============================] - 36s 21ms/step - loss: 0.0026 - accuracy: 0.9991 - val_loss: 0.0505 - val_accuracy: 0.9910\n",
            "Epoch 17/50\n",
            "1688/1688 [==============================] - 36s 22ms/step - loss: 0.0037 - accuracy: 0.9987 - val_loss: 0.0491 - val_accuracy: 0.9917\n",
            "Epoch 18/50\n",
            "1688/1688 [==============================] - 36s 22ms/step - loss: 0.0040 - accuracy: 0.9986 - val_loss: 0.0471 - val_accuracy: 0.9918\n",
            "Epoch 19/50\n",
            "1688/1688 [==============================] - 36s 22ms/step - loss: 0.0035 - accuracy: 0.9988 - val_loss: 0.0502 - val_accuracy: 0.9917\n",
            "Epoch 20/50\n",
            "1688/1688 [==============================] - 36s 22ms/step - loss: 0.0045 - accuracy: 0.9984 - val_loss: 0.0500 - val_accuracy: 0.9913\n",
            "Epoch 21/50\n",
            "1688/1688 [==============================] - 37s 22ms/step - loss: 0.0028 - accuracy: 0.9990 - val_loss: 0.0474 - val_accuracy: 0.9922\n",
            "Epoch 22/50\n",
            "1688/1688 [==============================] - 36s 21ms/step - loss: 0.0033 - accuracy: 0.9990 - val_loss: 0.0529 - val_accuracy: 0.9907\n",
            "Epoch 23/50\n",
            "1688/1688 [==============================] - 37s 22ms/step - loss: 0.0036 - accuracy: 0.9988 - val_loss: 0.0501 - val_accuracy: 0.9907\n",
            "Epoch 24/50\n",
            "1688/1688 [==============================] - 36s 22ms/step - loss: 0.0026 - accuracy: 0.9992 - val_loss: 0.0468 - val_accuracy: 0.9918\n",
            "Epoch 25/50\n",
            "1688/1688 [==============================] - 37s 22ms/step - loss: 0.0033 - accuracy: 0.9990 - val_loss: 0.0512 - val_accuracy: 0.9913\n",
            "Epoch 26/50\n",
            "1688/1688 [==============================] - 37s 22ms/step - loss: 0.0029 - accuracy: 0.9989 - val_loss: 0.0499 - val_accuracy: 0.9907\n",
            "Epoch 27/50\n",
            "1688/1688 [==============================] - 36s 22ms/step - loss: 0.0034 - accuracy: 0.9989 - val_loss: 0.0491 - val_accuracy: 0.9918\n",
            "Epoch 28/50\n",
            "1688/1688 [==============================] - 36s 21ms/step - loss: 0.0035 - accuracy: 0.9988 - val_loss: 0.0466 - val_accuracy: 0.9917\n",
            "Epoch 29/50\n",
            "1688/1688 [==============================] - 36s 22ms/step - loss: 0.0030 - accuracy: 0.9988 - val_loss: 0.0484 - val_accuracy: 0.9917\n",
            "Epoch 30/50\n",
            "1688/1688 [==============================] - 36s 22ms/step - loss: 0.0030 - accuracy: 0.9991 - val_loss: 0.0544 - val_accuracy: 0.9910\n",
            "Epoch 31/50\n",
            "1688/1688 [==============================] - 37s 22ms/step - loss: 0.0033 - accuracy: 0.9988 - val_loss: 0.0461 - val_accuracy: 0.9915\n",
            "Epoch 32/50\n",
            "1688/1688 [==============================] - 36s 21ms/step - loss: 0.0025 - accuracy: 0.9991 - val_loss: 0.0474 - val_accuracy: 0.9913\n",
            "Epoch 33/50\n",
            "1688/1688 [==============================] - 36s 22ms/step - loss: 0.0025 - accuracy: 0.9991 - val_loss: 0.0510 - val_accuracy: 0.9913\n",
            "Epoch 34/50\n",
            "1688/1688 [==============================] - 37s 22ms/step - loss: 0.0027 - accuracy: 0.9991 - val_loss: 0.0561 - val_accuracy: 0.9913\n",
            "Epoch 35/50\n",
            "1688/1688 [==============================] - 37s 22ms/step - loss: 0.0033 - accuracy: 0.9988 - val_loss: 0.0546 - val_accuracy: 0.9910\n",
            "Epoch 36/50\n",
            "1688/1688 [==============================] - 37s 22ms/step - loss: 0.0030 - accuracy: 0.9991 - val_loss: 0.0534 - val_accuracy: 0.9910\n",
            "Epoch 37/50\n",
            "1688/1688 [==============================] - 37s 22ms/step - loss: 0.0031 - accuracy: 0.9989 - val_loss: 0.0502 - val_accuracy: 0.9922\n",
            "Epoch 38/50\n",
            "1688/1688 [==============================] - 37s 22ms/step - loss: 0.0041 - accuracy: 0.9986 - val_loss: 0.0572 - val_accuracy: 0.9907\n",
            "Epoch 39/50\n",
            "1688/1688 [==============================] - 37s 22ms/step - loss: 0.0029 - accuracy: 0.9990 - val_loss: 0.0548 - val_accuracy: 0.9907\n",
            "Epoch 40/50\n",
            "1688/1688 [==============================] - 37s 22ms/step - loss: 0.0033 - accuracy: 0.9989 - val_loss: 0.0548 - val_accuracy: 0.9903\n",
            "Epoch 41/50\n",
            "1688/1688 [==============================] - 36s 22ms/step - loss: 0.0029 - accuracy: 0.9989 - val_loss: 0.0517 - val_accuracy: 0.9907\n",
            "Epoch 42/50\n",
            "1688/1688 [==============================] - 36s 22ms/step - loss: 0.0029 - accuracy: 0.9991 - val_loss: 0.0518 - val_accuracy: 0.9915\n",
            "Epoch 43/50\n",
            "1688/1688 [==============================] - 36s 22ms/step - loss: 0.0026 - accuracy: 0.9991 - val_loss: 0.0539 - val_accuracy: 0.9918\n",
            "Epoch 44/50\n",
            "1688/1688 [==============================] - 37s 22ms/step - loss: 0.0028 - accuracy: 0.9991 - val_loss: 0.0523 - val_accuracy: 0.9912\n",
            "Epoch 45/50\n",
            "1688/1688 [==============================] - 36s 21ms/step - loss: 0.0018 - accuracy: 0.9994 - val_loss: 0.0548 - val_accuracy: 0.9913\n",
            "Epoch 46/50\n",
            "1688/1688 [==============================] - 36s 22ms/step - loss: 0.0028 - accuracy: 0.9991 - val_loss: 0.0553 - val_accuracy: 0.9920\n",
            "Epoch 47/50\n",
            "1688/1688 [==============================] - 36s 22ms/step - loss: 0.0028 - accuracy: 0.9991 - val_loss: 0.0539 - val_accuracy: 0.9912\n",
            "Epoch 48/50\n",
            "1688/1688 [==============================] - 36s 22ms/step - loss: 0.0026 - accuracy: 0.9990 - val_loss: 0.0515 - val_accuracy: 0.9918\n",
            "Epoch 49/50\n",
            "1688/1688 [==============================] - 36s 22ms/step - loss: 0.0020 - accuracy: 0.9994 - val_loss: 0.0543 - val_accuracy: 0.9925\n",
            "Epoch 50/50\n",
            "1688/1688 [==============================] - 36s 22ms/step - loss: 0.0033 - accuracy: 0.9989 - val_loss: 0.0517 - val_accuracy: 0.9925\n"
          ]
        }
      ]
    },
    {
      "cell_type": "code",
      "metadata": {
        "colab": {
          "base_uri": "https://localhost:8080/",
          "height": 295
        },
        "id": "zMnedTgz84pm",
        "outputId": "6bef73c8-4e23-45dd-fba4-7c7634b8e7f5"
      },
      "source": [
        "from matplotlib import pyplot as plt\n",
        "\n",
        "plt.plot(dropout_history.history['accuracy'])\n",
        "plt.plot(dropout_history.history['val_accuracy'])\n",
        "plt.title('Model Accuracy')\n",
        "plt.ylabel('Accuracy')\n",
        "plt.xlabel('Number of Epochs')\n",
        "plt.legend(['train', 'val'], loc='upper left')\n",
        "plt.show()"
      ],
      "execution_count": 12,
      "outputs": [
        {
          "output_type": "display_data",
          "data": {
            "image/png": "[encoded data removed]",
            "text/plain": [
              "<Figure size 432x288 with 1 Axes>"
            ]
          },
          "metadata": {
            "needs_background": "light"
          }
        }
      ]
    },
    {
      "cell_type": "markdown",
      "metadata": {
        "id": "GEKSRoVM9yyL"
      },
      "source": [
        "iii. CNN with extra layer\n"
      ]
    },
    {
      "cell_type": "code",
      "metadata": {
        "id": "cJ9-E-Oc4EQV"
      },
      "source": [
        "\n",
        "def create_cnn_with_layers( ):\n",
        "  # define using Sequential\n",
        "  model = Sequential()\n",
        "  # Convolution layer 1\n",
        "  model.add(\n",
        "      Conv2D(64, (3, 3),\n",
        "      activation= 'relu',\n",
        "      kernel_initializer='he_uniform',\n",
        "      input_shape=(28, 28, 1))\n",
        "      )\n",
        "  # Maxpooling layer 1\n",
        "  model.add(MaxPooling2D((2, 2)))\n",
        "  # Convolution Layer 2\n",
        "  model.add(\n",
        "      Conv2D(32, (3, 3),\n",
        "      activation= 'relu',\n",
        "      kernel_initializer='he_uniform',\n",
        "      input_shape=(28, 28, 1))\n",
        "      )\n",
        "  # Maxpooling layer 2\n",
        "  model.add(MaxPooling2D((2, 2)))\n",
        "  # Flatten output\n",
        "  model.add(Flatten())\n",
        "  # Dropout Layer\n",
        "  model.add(Dropout(0.5)) \n",
        "  # Dense layer of 100 neurons\n",
        "  model.add(\n",
        "      Dense (100,\n",
        "      activation= 'relu',\n",
        "      kernel_initializer='he_uniform') \n",
        "      )\n",
        "  model.add(Dense(10, activation='softmax')) # initialize optimizer\n",
        "  opt = SGD(lr=0.01, momentum=0.9)\n",
        "  # compile model\n",
        "  model.compile(\n",
        "      optimizer=opt,\n",
        "      loss= 'categorical_crossentropy',\n",
        "      metrics =['accuracy']\n",
        "      )\n",
        "  \n",
        "  #print(model.layers)\n",
        "\n",
        "  return model"
      ],
      "execution_count": 16,
      "outputs": []
    },
    {
      "cell_type": "code",
      "metadata": {
        "colab": {
          "base_uri": "https://localhost:8080/"
        },
        "id": "6zz8lecw-kHo",
        "outputId": "16d4488f-b687-4b0c-e4e8-3f9f4f68c992"
      },
      "source": [
        "# Training the new CNN\n",
        "\n",
        "mult_layered_model = create_cnn_with_layers()\n",
        "\n",
        "new_model.fit(train_X, train_Y, batch_size=32, epochs=10, validation_split =0.1)\n",
        "score = mult_layered_model.evaluate(test_X, test_Y, verbose=0)\n",
        "dropout_history = mult_layered_model.fit(train_X, train_Y, batch_size=32, epochs=10, validation_split =0.1)\n",
        "\n"
      ],
      "execution_count": 17,
      "outputs": [
        {
          "output_type": "stream",
          "name": "stdout",
          "text": [
            "Epoch 1/10\n",
            "   3/1688 [..............................] - ETA: 48s - loss: 2.7154e-04 - accuracy: 1.0000"
          ]
        },
        {
          "output_type": "stream",
          "name": "stderr",
          "text": [
            "/usr/local/lib/python3.7/dist-packages/keras/optimizer_v2/gradient_descent.py:102: UserWarning: The `lr` argument is deprecated, use `learning_rate` instead.\n",
            "  super(SGD, self).__init__(name, **kwargs)\n"
          ]
        },
        {
          "output_type": "stream",
          "name": "stdout",
          "text": [
            "1688/1688 [==============================] - 38s 22ms/step - loss: 0.0019 - accuracy: 0.9994 - val_loss: 0.0539 - val_accuracy: 0.9918\n",
            "Epoch 2/10\n",
            "1688/1688 [==============================] - 37s 22ms/step - loss: 0.0018 - accuracy: 0.9995 - val_loss: 0.0534 - val_accuracy: 0.9915\n",
            "Epoch 3/10\n",
            "1688/1688 [==============================] - 37s 22ms/step - loss: 0.0025 - accuracy: 0.9992 - val_loss: 0.0578 - val_accuracy: 0.9908\n",
            "Epoch 4/10\n",
            "1688/1688 [==============================] - 37s 22ms/step - loss: 0.0026 - accuracy: 0.9992 - val_loss: 0.0510 - val_accuracy: 0.9917\n",
            "Epoch 5/10\n",
            "1688/1688 [==============================] - 38s 22ms/step - loss: 0.0024 - accuracy: 0.9991 - val_loss: 0.0501 - val_accuracy: 0.9920\n",
            "Epoch 6/10\n",
            "1688/1688 [==============================] - 38s 22ms/step - loss: 0.0027 - accuracy: 0.9990 - val_loss: 0.0488 - val_accuracy: 0.9917\n",
            "Epoch 7/10\n",
            "1688/1688 [==============================] - 37s 22ms/step - loss: 0.0023 - accuracy: 0.9994 - val_loss: 0.0488 - val_accuracy: 0.9922\n",
            "Epoch 8/10\n",
            "1688/1688 [==============================] - 37s 22ms/step - loss: 0.0020 - accuracy: 0.9993 - val_loss: 0.0522 - val_accuracy: 0.9923\n",
            "Epoch 9/10\n",
            "1688/1688 [==============================] - 38s 22ms/step - loss: 0.0024 - accuracy: 0.9991 - val_loss: 0.0495 - val_accuracy: 0.9922\n",
            "Epoch 10/10\n",
            "1688/1688 [==============================] - 37s 22ms/step - loss: 0.0017 - accuracy: 0.9995 - val_loss: 0.0528 - val_accuracy: 0.9922\n",
            "Epoch 1/10\n",
            "1688/1688 [==============================] - 68s 40ms/step - loss: 0.2731 - accuracy: 0.9137 - val_loss: 0.0553 - val_accuracy: 0.9835\n",
            "Epoch 2/10\n",
            "1688/1688 [==============================] - 66s 39ms/step - loss: 0.1217 - accuracy: 0.9614 - val_loss: 0.0472 - val_accuracy: 0.9855\n",
            "Epoch 3/10\n",
            "1688/1688 [==============================] - 66s 39ms/step - loss: 0.0947 - accuracy: 0.9701 - val_loss: 0.0359 - val_accuracy: 0.9895\n",
            "Epoch 4/10\n",
            "1688/1688 [==============================] - 67s 40ms/step - loss: 0.0817 - accuracy: 0.9742 - val_loss: 0.0381 - val_accuracy: 0.9882\n",
            "Epoch 5/10\n",
            "1688/1688 [==============================] - 67s 40ms/step - loss: 0.0692 - accuracy: 0.9779 - val_loss: 0.0323 - val_accuracy: 0.9903\n",
            "Epoch 6/10\n",
            "1688/1688 [==============================] - 67s 40ms/step - loss: 0.0642 - accuracy: 0.9791 - val_loss: 0.0316 - val_accuracy: 0.9903\n",
            "Epoch 7/10\n",
            "1688/1688 [==============================] - 68s 40ms/step - loss: 0.0579 - accuracy: 0.9818 - val_loss: 0.0329 - val_accuracy: 0.9905\n",
            "Epoch 8/10\n",
            "1688/1688 [==============================] - 69s 41ms/step - loss: 0.0527 - accuracy: 0.9828 - val_loss: 0.0294 - val_accuracy: 0.9908\n",
            "Epoch 9/10\n",
            "1688/1688 [==============================] - 68s 41ms/step - loss: 0.0501 - accuracy: 0.9839 - val_loss: 0.0273 - val_accuracy: 0.9918\n",
            "Epoch 10/10\n",
            "1688/1688 [==============================] - 68s 40ms/step - loss: 0.0455 - accuracy: 0.9855 - val_loss: 0.0267 - val_accuracy: 0.9915\n"
          ]
        }
      ]
    },
    {
      "cell_type": "markdown",
      "metadata": {
        "id": "4DVayfUaAzSZ"
      },
      "source": [
        "iv. Experimentation with different learning rates"
      ]
    },
    {
      "cell_type": "code",
      "metadata": {
        "id": "yIehM6HCA6S-"
      },
      "source": [
        "\n",
        "def final_create_cnn( ):\n",
        "  # define using Sequential\n",
        "  model = Sequential()\n",
        "  # Convolution layer 1\n",
        "  model.add(\n",
        "      Conv2D(64, (3, 3),\n",
        "      activation= 'relu',\n",
        "      kernel_initializer='he_uniform',\n",
        "      input_shape=(28, 28, 1))\n",
        "      )\n",
        "  # Maxpooling layer 1\n",
        "  model.add(MaxPooling2D((2, 2)))\n",
        "  # Convolution Layer 2\n",
        "  model.add(\n",
        "      Conv2D(32, (3, 3),\n",
        "      activation= 'relu',\n",
        "      kernel_initializer='he_uniform',\n",
        "      input_shape=(28, 28, 1))\n",
        "      )\n",
        "  # Maxpooling layer 2\n",
        "  model.add(MaxPooling2D((2, 2)))\n",
        "  # Flatten output\n",
        "  model.add(Flatten())\n",
        "  # Dropout Layer\n",
        "  model.add(Dropout(0.5)) \n",
        "  # Dense layer of 100 neurons\n",
        "  model.add(\n",
        "      Dense (100,\n",
        "      activation= 'relu',\n",
        "      kernel_initializer='he_uniform') \n",
        "      )\n",
        "  model.add(Dense(10, activation='softmax')) # initialize optimizer\n",
        "  opt = SGD(learning_rate=0.001, momentum=0.9)\n",
        "  # compile model\n",
        "  model.compile(\n",
        "      optimizer=opt,\n",
        "      loss= 'categorical_crossentropy',\n",
        "      metrics =['accuracy']\n",
        "      )\n",
        "  \n",
        "\n",
        "  return model"
      ],
      "execution_count": 18,
      "outputs": []
    },
    {
      "cell_type": "code",
      "metadata": {
        "colab": {
          "base_uri": "https://localhost:8080/"
        },
        "id": "AoWdiPMnH0c5",
        "outputId": "d2982683-4b21-40b3-b48c-d89daa097465"
      },
      "source": [
        "# Training the new CNN\n",
        "\n",
        "model1 = final_create_cnn()\n",
        "\n",
        "model1.fit(train_X, train_Y, batch_size=32, epochs=10, validation_split =0.1)\n",
        "score = model1.evaluate(test_X, test_Y, verbose=0)\n",
        "history1 = model1.fit(train_X, train_Y, batch_size=32, epochs=10, validation_split =0.1)\n",
        "\n"
      ],
      "execution_count": 19,
      "outputs": [
        {
          "output_type": "stream",
          "name": "stdout",
          "text": [
            "Epoch 1/10\n",
            "1688/1688 [==============================] - 68s 40ms/step - loss: 0.4692 - accuracy: 0.8499 - val_loss: 0.1064 - val_accuracy: 0.9692\n",
            "Epoch 2/10\n",
            "1688/1688 [==============================] - 68s 40ms/step - loss: 0.1875 - accuracy: 0.9418 - val_loss: 0.0761 - val_accuracy: 0.9780\n",
            "Epoch 3/10\n",
            "1688/1688 [==============================] - 68s 40ms/step - loss: 0.1479 - accuracy: 0.9549 - val_loss: 0.0634 - val_accuracy: 0.9812\n",
            "Epoch 4/10\n",
            "1688/1688 [==============================] - 68s 40ms/step - loss: 0.1269 - accuracy: 0.9609 - val_loss: 0.0577 - val_accuracy: 0.9847\n",
            "Epoch 5/10\n",
            "1688/1688 [==============================] - 67s 40ms/step - loss: 0.1140 - accuracy: 0.9646 - val_loss: 0.0531 - val_accuracy: 0.9860\n",
            "Epoch 6/10\n",
            "1688/1688 [==============================] - 69s 41ms/step - loss: 0.1036 - accuracy: 0.9672 - val_loss: 0.0477 - val_accuracy: 0.9883\n",
            "Epoch 7/10\n",
            "1688/1688 [==============================] - 69s 41ms/step - loss: 0.0949 - accuracy: 0.9713 - val_loss: 0.0477 - val_accuracy: 0.9872\n",
            "Epoch 8/10\n",
            "1688/1688 [==============================] - 69s 41ms/step - loss: 0.0889 - accuracy: 0.9723 - val_loss: 0.0423 - val_accuracy: 0.9883\n",
            "Epoch 9/10\n",
            "1688/1688 [==============================] - 67s 40ms/step - loss: 0.0848 - accuracy: 0.9734 - val_loss: 0.0397 - val_accuracy: 0.9892\n",
            "Epoch 10/10\n",
            "1688/1688 [==============================] - 67s 40ms/step - loss: 0.0795 - accuracy: 0.9751 - val_loss: 0.0409 - val_accuracy: 0.9887\n",
            "Epoch 1/10\n",
            "1688/1688 [==============================] - 67s 40ms/step - loss: 0.0768 - accuracy: 0.9759 - val_loss: 0.0371 - val_accuracy: 0.9903\n",
            "Epoch 2/10\n",
            "1688/1688 [==============================] - 67s 40ms/step - loss: 0.0741 - accuracy: 0.9774 - val_loss: 0.0385 - val_accuracy: 0.9893\n",
            "Epoch 3/10\n",
            "1688/1688 [==============================] - 67s 40ms/step - loss: 0.0706 - accuracy: 0.9772 - val_loss: 0.0380 - val_accuracy: 0.9895\n",
            "Epoch 4/10\n",
            "1688/1688 [==============================] - 67s 40ms/step - loss: 0.0688 - accuracy: 0.9782 - val_loss: 0.0371 - val_accuracy: 0.9885\n",
            "Epoch 5/10\n",
            "1688/1688 [==============================] - 67s 40ms/step - loss: 0.0669 - accuracy: 0.9791 - val_loss: 0.0356 - val_accuracy: 0.9898\n",
            "Epoch 6/10\n",
            "1688/1688 [==============================] - 67s 40ms/step - loss: 0.0641 - accuracy: 0.9797 - val_loss: 0.0350 - val_accuracy: 0.9897\n",
            "Epoch 7/10\n",
            "1688/1688 [==============================] - 67s 40ms/step - loss: 0.0605 - accuracy: 0.9808 - val_loss: 0.0347 - val_accuracy: 0.9907\n",
            "Epoch 8/10\n",
            "1688/1688 [==============================] - 67s 40ms/step - loss: 0.0598 - accuracy: 0.9809 - val_loss: 0.0390 - val_accuracy: 0.9892\n",
            "Epoch 9/10\n",
            "1688/1688 [==============================] - 67s 40ms/step - loss: 0.0585 - accuracy: 0.9819 - val_loss: 0.0357 - val_accuracy: 0.9900\n",
            "Epoch 10/10\n",
            "1688/1688 [==============================] - 67s 40ms/step - loss: 0.0568 - accuracy: 0.9823 - val_loss: 0.0329 - val_accuracy: 0.9910\n"
          ]
        }
      ]
    },
    {
      "cell_type": "code",
      "metadata": {
        "id": "op9JhicsICQk"
      },
      "source": [
        "\n",
        "def final_create_cnn( ):\n",
        "  # define using Sequential\n",
        "  model = Sequential()\n",
        "  # Convolution layer 1\n",
        "  model.add(\n",
        "      Conv2D(64, (3, 3),\n",
        "      activation= 'relu',\n",
        "      kernel_initializer='he_uniform',\n",
        "      input_shape=(28, 28, 1))\n",
        "      )\n",
        "  # Maxpooling layer 1\n",
        "  model.add(MaxPooling2D((2, 2)))\n",
        "  # Convolution Layer 2\n",
        "  model.add(\n",
        "      Conv2D(32, (3, 3),\n",
        "      activation= 'relu',\n",
        "      kernel_initializer='he_uniform',\n",
        "      input_shape=(28, 28, 1))\n",
        "      )\n",
        "  # Maxpooling layer 2\n",
        "  model.add(MaxPooling2D((2, 2)))\n",
        "  # Flatten output\n",
        "  model.add(Flatten())\n",
        "  # Dropout Layer\n",
        "  model.add(Dropout(0.5)) \n",
        "  # Dense layer of 100 neurons\n",
        "  model.add(\n",
        "      Dense (100,\n",
        "      activation= 'relu',\n",
        "      kernel_initializer='he_uniform') \n",
        "      )\n",
        "  model.add(Dense(10, activation='softmax')) # initialize optimizer\n",
        "  opt = SGD(learning_rate=0.1, momentum=0.9)\n",
        "  # compile model\n",
        "  model.compile(\n",
        "      optimizer=opt,\n",
        "      loss= 'categorical_crossentropy',\n",
        "      metrics =['accuracy']\n",
        "      )\n",
        "  \n",
        "\n",
        "  return model"
      ],
      "execution_count": 20,
      "outputs": []
    },
    {
      "cell_type": "code",
      "metadata": {
        "colab": {
          "base_uri": "https://localhost:8080/"
        },
        "id": "UdUeekeXIHfI",
        "outputId": "193d1a80-ce4c-4a3c-a37f-aed1e2700d05"
      },
      "source": [
        "# Training the new CNN\n",
        "\n",
        "model2 = final_create_cnn()\n",
        "\n",
        "model2.fit(train_X, train_Y, batch_size=32, epochs=10, validation_split =0.1)\n",
        "score = model2.evaluate(test_X, test_Y, verbose=0)\n",
        "history2 = model2.fit(train_X, train_Y, batch_size=32, epochs=10, validation_split =0.1)\n",
        "\n"
      ],
      "execution_count": 21,
      "outputs": [
        {
          "output_type": "stream",
          "name": "stdout",
          "text": [
            "Epoch 1/10\n",
            "1688/1688 [==============================] - 66s 39ms/step - loss: 1.0745 - accuracy: 0.6936 - val_loss: 1.1743 - val_accuracy: 0.6415\n",
            "Epoch 2/10\n",
            "1688/1688 [==============================] - 66s 39ms/step - loss: 1.3197 - accuracy: 0.6063 - val_loss: 0.9009 - val_accuracy: 0.7183\n",
            "Epoch 3/10\n",
            "1688/1688 [==============================] - 65s 39ms/step - loss: 1.4983 - accuracy: 0.5166 - val_loss: 1.0165 - val_accuracy: 0.6652\n",
            "Epoch 4/10\n",
            "1688/1688 [==============================] - 66s 39ms/step - loss: 1.5875 - accuracy: 0.4621 - val_loss: 1.2858 - val_accuracy: 0.5953\n",
            "Epoch 5/10\n",
            "1688/1688 [==============================] - 66s 39ms/step - loss: 2.0825 - accuracy: 0.2509 - val_loss: 2.3082 - val_accuracy: 0.0992\n",
            "Epoch 6/10\n",
            "1688/1688 [==============================] - 66s 39ms/step - loss: 2.3095 - accuracy: 0.1035 - val_loss: 2.3107 - val_accuracy: 0.0952\n",
            "Epoch 7/10\n",
            "1688/1688 [==============================] - 66s 39ms/step - loss: 2.3080 - accuracy: 0.1044 - val_loss: 2.3036 - val_accuracy: 0.0960\n",
            "Epoch 8/10\n",
            "1688/1688 [==============================] - 66s 39ms/step - loss: 2.3085 - accuracy: 0.1043 - val_loss: 2.3062 - val_accuracy: 0.1113\n",
            "Epoch 9/10\n",
            "1688/1688 [==============================] - 66s 39ms/step - loss: 2.3089 - accuracy: 0.1049 - val_loss: 2.3081 - val_accuracy: 0.1045\n",
            "Epoch 10/10\n",
            "1688/1688 [==============================] - 67s 40ms/step - loss: 2.3088 - accuracy: 0.1044 - val_loss: 2.3101 - val_accuracy: 0.1050\n",
            "Epoch 1/10\n",
            "1688/1688 [==============================] - 67s 40ms/step - loss: 2.3083 - accuracy: 0.1059 - val_loss: 2.3061 - val_accuracy: 0.1113\n",
            "Epoch 2/10\n",
            "1688/1688 [==============================] - 68s 40ms/step - loss: 2.3091 - accuracy: 0.1036 - val_loss: 2.3088 - val_accuracy: 0.0960\n",
            "Epoch 3/10\n",
            "1688/1688 [==============================] - 67s 40ms/step - loss: 2.3085 - accuracy: 0.1028 - val_loss: 2.3106 - val_accuracy: 0.0960\n",
            "Epoch 4/10\n",
            "1688/1688 [==============================] - 67s 40ms/step - loss: 2.3079 - accuracy: 0.1044 - val_loss: 2.3066 - val_accuracy: 0.0960\n",
            "Epoch 5/10\n",
            "1688/1688 [==============================] - 67s 40ms/step - loss: 2.3081 - accuracy: 0.1040 - val_loss: 2.3068 - val_accuracy: 0.1050\n",
            "Epoch 6/10\n",
            "1688/1688 [==============================] - 68s 40ms/step - loss: 2.3086 - accuracy: 0.1046 - val_loss: 2.3078 - val_accuracy: 0.1113\n",
            "Epoch 7/10\n",
            "1688/1688 [==============================] - 67s 40ms/step - loss: 2.3081 - accuracy: 0.1043 - val_loss: 2.3112 - val_accuracy: 0.0952\n",
            "Epoch 8/10\n",
            "1688/1688 [==============================] - 67s 40ms/step - loss: 2.3084 - accuracy: 0.1042 - val_loss: 2.3089 - val_accuracy: 0.0960\n",
            "Epoch 9/10\n",
            "1688/1688 [==============================] - 68s 40ms/step - loss: 2.3085 - accuracy: 0.1032 - val_loss: 2.3090 - val_accuracy: 0.1113\n",
            "Epoch 10/10\n",
            "1688/1688 [==============================] - 67s 40ms/step - loss: 2.3085 - accuracy: 0.1044 - val_loss: 2.3070 - val_accuracy: 0.1113\n"
          ]
        }
      ]
    }
  ]
}